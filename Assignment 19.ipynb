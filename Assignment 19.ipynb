{
 "cells": [
  {
   "cell_type": "code",
   "execution_count": null,
   "metadata": {},
   "outputs": [],
   "source": [
    "1. Make a class called Thing with no contents and print it. Then, create an object called example\n",
    "from this class and also print it. Are the printed values the same or different?\n",
    "\n",
    "\n",
    "\n",
    "class Thing():\n",
    "    print(\"no contents\")\n",
    "output : no contents\n",
    "    \n",
    "example = Thing()\n",
    "example\n",
    "output: <__main__.Thing at 0x2254d96bd88>\n"
   ]
  },
  {
   "cell_type": "code",
   "execution_count": null,
   "metadata": {},
   "outputs": [],
   "source": [
    "2. Create a new class called Thing2 and add the value \"abc\" to the letters class attribute. Letters should be printed.\n",
    "\n",
    "\n",
    "class Thing2():\n",
    "    letters = \"abc\"\n",
    "    \n",
    "Thin2.letters"
   ]
  },
  {
   "cell_type": "code",
   "execution_count": null,
   "metadata": {},
   "outputs": [],
   "source": [
    "3. Make yet another class called, of course, Thing3. This time, assign the value  to an instance\n",
    "(object) attribute called letters. Print letters. Do you need to make an object from the class to do this?\n",
    "\n",
    "\n",
    "class Thing3():\n",
    "    def __init__(self,word):\n",
    "        self.word = word\n",
    "    def letters(self):\n",
    "        print(self.word)\n",
    "        \n",
    "        \n",
    "Thing3(\"xyz\").letters()"
   ]
  },
  {
   "cell_type": "code",
   "execution_count": null,
   "metadata": {},
   "outputs": [],
   "source": [
    "4. Create an Element class with the instance attributes name, symbol, and number. Create a class\n",
    "object with the values Hydrogen, H , and 1.\n",
    "\n",
    "\n",
    "class Element"
   ]
  },
  {
   "cell_type": "code",
   "execution_count": 20,
   "metadata": {},
   "outputs": [],
   "source": [
    "class Element():\n",
    "    def __init__(self,name,symbol,number):\n",
    "        self.name = name\n",
    "        self.number = number\n",
    "        self.symbol = symbol\n",
    "    def dump(self):\n",
    "        print(\"name=%s,symbol=%s,number=%s\"%(self.name,self.number,self.symbol))"
   ]
  },
  {
   "cell_type": "code",
   "execution_count": 22,
   "metadata": {},
   "outputs": [],
   "source": [
    "a = Element(\"Hydrogen\",\"H\",1)"
   ]
  },
  {
   "cell_type": "code",
   "execution_count": 23,
   "metadata": {},
   "outputs": [
    {
     "data": {
      "text/plain": [
       "'H'"
      ]
     },
     "execution_count": 23,
     "metadata": {},
     "output_type": "execute_result"
    }
   ],
   "source": [
    "a.symbol"
   ]
  },
  {
   "cell_type": "code",
   "execution_count": null,
   "metadata": {},
   "outputs": [],
   "source": [
    "5. Make a dictionary with these keys and values: name Hydrogen symbol H number: 1. Then,\n",
    "create an object called hydrogen from class Element using this dictionary.\n",
    "\n",
    "\n",
    "dict = {\"name\":\"Hydrogen\",\"symbol\":\"H\",\"number\":1}\n",
    "hydrogen = Element(**dict)"
   ]
  },
  {
   "cell_type": "code",
   "execution_count": null,
   "metadata": {},
   "outputs": [],
   "source": [
    "6. For the Element class, define a method called dump() that prints the values of the object’s\n",
    "attributes (name, symbol, and number). Create the hydrogen object from this new definition and\n",
    "use dump() to print its attributes.\n",
    "\n",
    "\n",
    "hydrogen = Element(**dict)\n",
    "hydrogen.dump"
   ]
  },
  {
   "cell_type": "code",
   "execution_count": 27,
   "metadata": {},
   "outputs": [
    {
     "name": "stdout",
     "output_type": "stream",
     "text": [
      "name=Hydrogen,symbol=1,number=H\n"
     ]
    }
   ],
   "source": [
    "hydrogen = Element(**dict)\n",
    "hydrogen.dump()"
   ]
  },
  {
   "cell_type": "code",
   "execution_count": null,
   "metadata": {},
   "outputs": [],
   "source": [
    "7. Call print(hydrogen). In the definition of Element, change the name of method dump to __str__,\n",
    "create a new hydrogen object, and call print(hydrogen) again.\n",
    "\n",
    "\n"
   ]
  },
  {
   "cell_type": "code",
   "execution_count": 28,
   "metadata": {},
   "outputs": [],
   "source": [
    "class Element():\n",
    "    def __init__(self,name,symbol,number):\n",
    "        self.name = name\n",
    "        self.number = number\n",
    "        self.symbol = symbol\n",
    "    def __str__(self):\n",
    "        print(\"name=%s,symbol=%s,number=%s\"%(self.name,self.number,self.symbol))"
   ]
  },
  {
   "cell_type": "code",
   "execution_count": 30,
   "metadata": {},
   "outputs": [],
   "source": [
    "a = Element(\"Hydrogen\",\"H\",2)"
   ]
  },
  {
   "cell_type": "code",
   "execution_count": 32,
   "metadata": {},
   "outputs": [
    {
     "data": {
      "text/plain": [
       "2"
      ]
     },
     "execution_count": 32,
     "metadata": {},
     "output_type": "execute_result"
    }
   ],
   "source": [
    "a.number"
   ]
  },
  {
   "cell_type": "code",
   "execution_count": null,
   "metadata": {},
   "outputs": [],
   "source": [
    "8. Modify Element to make the attributes name, symbol, and number private. Define a getter\n",
    "property for each to return its value.\n",
    "\n",
    "\n"
   ]
  },
  {
   "cell_type": "code",
   "execution_count": 33,
   "metadata": {},
   "outputs": [],
   "source": [
    "class Element():\n",
    "    def __init__(self,name,symbol,number):\n",
    "        self.name = name\n",
    "        self.number = number\n",
    "        self.symbol = symbol\n",
    "    @property\n",
    "    def name(self):\n",
    "        return self.__name\n",
    "    @property\n",
    "    def symbol(self):\n",
    "        return self.__symbol\n",
    "    @property\n",
    "    def number(self):\n",
    "        return self.__number"
   ]
  },
  {
   "cell_type": "code",
   "execution_count": null,
   "metadata": {},
   "outputs": [],
   "source": [
    "9. Define three classes: Bear, Rabbit, and Octothorpe. For each, define only one method: eats(). This\n",
    "should return berries (Bear), clover (Rabbit), or campers (Octothorpe). Create one object from each and print what it eats.\n",
    "\n",
    "\n",
    "\n"
   ]
  },
  {
   "cell_type": "code",
   "execution_count": 35,
   "metadata": {},
   "outputs": [],
   "source": [
    "class Bear():\n",
    "    def eats():\n",
    "        print (\"berries\")\n",
    "class Rabbit():\n",
    "    def eats():\n",
    "        print (\"clover\")\n",
    "class Octothorpe():\n",
    "    def eats():\n",
    "        print(\"campers\")"
   ]
  },
  {
   "cell_type": "code",
   "execution_count": 36,
   "metadata": {},
   "outputs": [
    {
     "name": "stdout",
     "output_type": "stream",
     "text": [
      "berries\n"
     ]
    }
   ],
   "source": [
    "Bear.eats()"
   ]
  },
  {
   "cell_type": "code",
   "execution_count": null,
   "metadata": {},
   "outputs": [],
   "source": [
    "10. Define these classes: Laser, Claw, and SmartPhone. Each has only one method: does(). This\n",
    "returns disintegrate(Laser), crush (Claw), or ring (SmartPhone). Then, define the class Robot that\n",
    "has one instance (object) of each of these. Define a does() method for the Robot that prints what its component objects do.\n",
    "\n",
    "\n",
    "\n",
    "class Laser"
   ]
  },
  {
   "cell_type": "code",
   "execution_count": 39,
   "metadata": {},
   "outputs": [],
   "source": [
    "class Laser():\n",
    "    def does():\n",
    "        print(\"laser is a text in laser class and does method\")\n",
    "class Claw():\n",
    "    def does():\n",
    "        print(\"claw ia text in Claw class and does method\")\n",
    "class SmartPhone():\n",
    "    def does():\n",
    "        print(\"smartphone is a text in smartphone class and does method\")\n",
    "        \n",
    "class Robot():\n",
    "    def __init__(self):\n",
    "        self.Laser = Laser()\n",
    "        self.Claw = Claw()\n",
    "        self.SmartPhone = SmartPhone()\n",
    "    def does(self):\n",
    "        return (\"Laser is %s , Claw is %s , SmartPhone is %s\" %(self.Laser.does(),self.Claw.does(),self.SmartPhone.does()))"
   ]
  },
  {
   "cell_type": "code",
   "execution_count": 44,
   "metadata": {},
   "outputs": [
    {
     "name": "stdout",
     "output_type": "stream",
     "text": [
      "<bound method Robot.does of <__main__.Robot object at 0x000002254DA2B288>>\n"
     ]
    }
   ],
   "source": [
    "r = Robot()\n",
    "print(r.does)"
   ]
  },
  {
   "cell_type": "code",
   "execution_count": null,
   "metadata": {},
   "outputs": [],
   "source": []
  },
  {
   "cell_type": "code",
   "execution_count": null,
   "metadata": {},
   "outputs": [],
   "source": []
  }
 ],
 "metadata": {
  "kernelspec": {
   "display_name": "Python 3",
   "language": "python",
   "name": "python3"
  },
  "language_info": {
   "codemirror_mode": {
    "name": "ipython",
    "version": 3
   },
   "file_extension": ".py",
   "mimetype": "text/x-python",
   "name": "python",
   "nbconvert_exporter": "python",
   "pygments_lexer": "ipython3",
   "version": "3.7.4"
  }
 },
 "nbformat": 4,
 "nbformat_minor": 2
}
