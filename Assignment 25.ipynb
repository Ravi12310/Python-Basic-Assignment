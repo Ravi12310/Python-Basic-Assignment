{
 "cells": [
  {
   "cell_type": "code",
   "execution_count": null,
   "metadata": {},
   "outputs": [],
   "source": [
    "1. What is the difference between enclosing a list comprehension in square brackets and\n",
    "parentheses?\n",
    "\n",
    "\n",
    "\n",
    "Basically ist will stored in [] and list is mutable we can change and add the values wherever we want. And tuples is denoted\n",
    "by parenthsis() it is immutable means we cannot able to change the values and we donot add the values. So we can do list\n",
    "comprehension."
   ]
  },
  {
   "cell_type": "code",
   "execution_count": null,
   "metadata": {},
   "outputs": [],
   "source": [
    "2. What is the relationship between generators and iterators?\n",
    "\n",
    "\n",
    "\n",
    "Iterator: Iterator is an object which contains a countable number of values and is used to iterate over iterable objects \n",
    "like list,tuple ets. Iterators are used using a class and local variable for iterating is not required. Every iterator is \n",
    "not a generator.\n",
    "iter() keyword able to create an iterator containing an iterable object.\n",
    "next() keyword able to call the next element in iterable object.\n",
    "\n",
    "\n",
    "Generator: It is other way of creating a iterator objects In a simple way wherever we uses \"yield\" keyword we have used\n",
    "generator keyword. Every generator is an iterator."
   ]
  },
  {
   "cell_type": "code",
   "execution_count": null,
   "metadata": {},
   "outputs": [],
   "source": [
    "3. What are the signs that a function is a generator function?\n",
    "\n",
    "\n",
    "\n",
    "In a noramal function we  use \"return\" function. And in any code or program wherever there is a \"yield\" keyword we \n",
    "can assume it is a generator function"
   ]
  },
  {
   "cell_type": "code",
   "execution_count": null,
   "metadata": {},
   "outputs": [],
   "source": [
    "4. What is the purpose of a yield statement?\n",
    "\n",
    "\n",
    "\n",
    "In the yield statement suspends function execution and sends a value back to the caller but retails enough to enable\n",
    "to resume where it is left off. Return sends a specified value to its caller function whereas yield can produce a sequence \n",
    "of values."
   ]
  },
  {
   "cell_type": "code",
   "execution_count": null,
   "metadata": {},
   "outputs": [],
   "source": [
    "5. What is the relationship between map calls and list comprehensions? Make a comparison and\n",
    "contrast between the two.\n",
    "\n",
    "\n",
    "\n",
    "List comprehension is more concise and easier to read as compared to map. List comprehension allows filtering. In map, \n",
    "we have no such facility. For example, to print all even numbers in range of 100, we can write [n for n in range(100) \n",
    "if n%2 == 0]. There is no alternate for it in map. List comprehension are used when a list of results is required as map \n",
    "only returns a map object and does not return any list. List comprehension is faster than map when we need to evaluate \n",
    "expressions that are too long or complicated to express.Map is faster in case of calling an already defined function."
   ]
  },
  {
   "cell_type": "code",
   "execution_count": null,
   "metadata": {},
   "outputs": [],
   "source": []
  },
  {
   "cell_type": "code",
   "execution_count": null,
   "metadata": {},
   "outputs": [],
   "source": []
  },
  {
   "cell_type": "code",
   "execution_count": null,
   "metadata": {},
   "outputs": [],
   "source": []
  }
 ],
 "metadata": {
  "kernelspec": {
   "display_name": "Python 3",
   "language": "python",
   "name": "python3"
  },
  "language_info": {
   "codemirror_mode": {
    "name": "ipython",
    "version": 3
   },
   "file_extension": ".py",
   "mimetype": "text/x-python",
   "name": "python",
   "nbconvert_exporter": "python",
   "pygments_lexer": "ipython3",
   "version": "3.7.4"
  }
 },
 "nbformat": 4,
 "nbformat_minor": 2
}
