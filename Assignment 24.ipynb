{
 "cells": [
  {
   "cell_type": "code",
   "execution_count": null,
   "metadata": {},
   "outputs": [],
   "source": [
    "1. What is the relationship between def statements and lambda expressions ?\n",
    "\n",
    "\n",
    "By using def function we can create a function and we can able to use that function whenever we want and withthat we can \n",
    "create a huge code. With lambda function is also called as anonymous function because it donot have a name for the function\n",
    "It is a single line function whenever we want we can use lambda function and def function is definitely we want to give name."
   ]
  },
  {
   "cell_type": "code",
   "execution_count": null,
   "metadata": {},
   "outputs": [],
   "source": [
    "2. What is the benefit of lambda?\n",
    "\n",
    "\n",
    "\n",
    "With lambda function is also called as anonymous function because it donot have a name for the function\n",
    "It is a single line function whenever we want we can use lambda function thetime will reduce for the lambda function."
   ]
  },
  {
   "cell_type": "code",
   "execution_count": null,
   "metadata": {},
   "outputs": [],
   "source": [
    "3. Compare and contrast map, filter, and reduce.\n",
    "\n",
    "\n",
    "\n",
    "map: the map() function returns a list. the function returns a map object which is a generator object. To get the result \n",
    "as a list, the built-in list() function can be called on the map object.  list(map(func, *iterables))\n",
    "The number of arguments to func must be the number of iterables listed.\n",
    "\n",
    "\n",
    "filter: the filter() function will try to filter the values in the While map() passes each element in the \n",
    "iterable through a function and returns the result of all elements having passed through the function, filter(), \n",
    "first of all, requires the function to return boolean values (true or false) and then passes each \n",
    "element in the iterable through the function, \"filtering\" away those that are false. syntax: filter(func, iterable)\n",
    "    \n",
    "    \n",
    "Reduce: reduce applies a function of two arguments cumulatively to the elements of an iterable, \n",
    "optionally starting with an initial argument. syntax: reduce(func, iterable[, initial])"
   ]
  },
  {
   "cell_type": "code",
   "execution_count": null,
   "metadata": {},
   "outputs": [],
   "source": [
    "4. What are function annotations, and how are they used?\n",
    "\n",
    "\n",
    "\n",
    "\n",
    "Function annotations are optional it is a parameters and return a value. It will provide a way of associating parameters\n",
    "and various part of a function with arbitrary python expression at compile time."
   ]
  },
  {
   "cell_type": "code",
   "execution_count": null,
   "metadata": {},
   "outputs": [],
   "source": [
    "5. What are recursive functions, and how are they used?\n",
    "\n",
    "\n",
    "\n",
    "A recursive function is a function that calls itself during the execution. this process will repeat several times outputting\n",
    "the result at end of the each iteration.\n"
   ]
  },
  {
   "cell_type": "code",
   "execution_count": null,
   "metadata": {},
   "outputs": [],
   "source": [
    "6. What are some general design guidelines for coding functions?\n",
    "\n",
    "\n",
    "\n",
    "we can to start a function we can definetly use def keyword for the function.\n",
    "And we can try to give a good name because we can use wherever we wants that function\n",
    "We have to follow the particular intendations wherever we want.\n",
    "Global and local scopes are also used based on our requirement\n",
    "We can use exception handling because of errors and exceptions in a function."
   ]
  },
  {
   "cell_type": "code",
   "execution_count": null,
   "metadata": {},
   "outputs": [],
   "source": [
    "7. Name three or more ways that functions can communicate results to a caller.\n",
    "\n",
    "\n",
    "\n",
    "We can create a function using def keyword and with that function name we can try to call that function with that our output\n",
    "will gets. When we donot follow intendations it will throws error. So after the function we can leave 4 spaces or one tab\n",
    "space"
   ]
  },
  {
   "cell_type": "code",
   "execution_count": null,
   "metadata": {},
   "outputs": [],
   "source": []
  }
 ],
 "metadata": {
  "kernelspec": {
   "display_name": "Python 3",
   "language": "python",
   "name": "python3"
  },
  "language_info": {
   "codemirror_mode": {
    "name": "ipython",
    "version": 3
   },
   "file_extension": ".py",
   "mimetype": "text/x-python",
   "name": "python",
   "nbconvert_exporter": "python",
   "pygments_lexer": "ipython3",
   "version": "3.7.4"
  }
 },
 "nbformat": 4,
 "nbformat_minor": 2
}
