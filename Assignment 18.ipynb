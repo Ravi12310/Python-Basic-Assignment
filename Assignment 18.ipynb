{
 "cells": [
  {
   "cell_type": "code",
   "execution_count": null,
   "metadata": {},
   "outputs": [],
   "source": [
    "1. Create a zoo.py file first. Define the hours() function, which prints the string Open 9-5 daily.\n",
    "Then, use the interactive interpreter to import the zoo module and call its hours() function.\n",
    "\n",
    "\n",
    "\n",
    "import zoo\n",
    "zoo.hours()"
   ]
  },
  {
   "cell_type": "code",
   "execution_count": null,
   "metadata": {},
   "outputs": [],
   "source": [
    "2. In the interactive interpreter, import the zoo module as menagerie and call its hours() function.\n",
    "\n",
    "\n",
    "import zoo as menagerie \n",
    "menagerie .hours()"
   ]
  },
  {
   "cell_type": "code",
   "execution_count": null,
   "metadata": {},
   "outputs": [],
   "source": [
    "3. Using the interpreter, explicitly import and call the hours() function from zoo.\n",
    "\n",
    "\n",
    "from zoo import hours\n",
    "hours()"
   ]
  },
  {
   "cell_type": "code",
   "execution_count": null,
   "metadata": {},
   "outputs": [],
   "source": [
    "4. Import the hours() function as info and call it.\n",
    "\n",
    "\n",
    "from zoo import hours as info\n",
    "info()"
   ]
  },
  {
   "cell_type": "code",
   "execution_count": null,
   "metadata": {},
   "outputs": [],
   "source": [
    "5. Create a plain dictionary with the key-value pairs \"a\": 1, \"b\": 2, and \"c\": 3, and print it out.\n",
    "            \n",
    "            \n",
    "dict = {\"a\":1,\"b\":2,\"c\":3}\n",
    "dict"
   ]
  },
  {
   "cell_type": "code",
   "execution_count": null,
   "metadata": {},
   "outputs": [],
   "source": [
    "6.Make an OrderedDict called fancy from the same pairs listed in 5 and print it. Did it print in the\n",
    "same order as plain?\n",
    "\n",
    "\n",
    "It prints the value as list inside it has tuple like values (\"a\",1),(\"b\",2),(\"c\",3)"
   ]
  },
  {
   "cell_type": "code",
   "execution_count": null,
   "metadata": {},
   "outputs": [],
   "source": [
    "7. Make a default dictionary called dict_of_lists and pass it the argument list. Make the list\n",
    "dict_of_lists[a] and append the value something for a to it in one assignment. Print\n",
    "dict_of_lists[a].\n",
    "\n",
    "\n",
    "from collections import defaultdict\n",
    "dict_of_list = defaultdict(list)\n",
    "dict_of_list[\"a\"].append(\"something for a\")\n",
    "print(dict_of_list[\"a\"])"
   ]
  },
  {
   "cell_type": "code",
   "execution_count": 11,
   "metadata": {},
   "outputs": [
    {
     "name": "stdout",
     "output_type": "stream",
     "text": [
      "['something for a']\n"
     ]
    }
   ],
   "source": [
    "from collections import defaultdict\n",
    "dict_of_list = defaultdict(list)\n",
    "dict_of_list[\"a\"].append(\"something for a\")\n",
    "print(dict_of_list[\"a\"])"
   ]
  },
  {
   "cell_type": "code",
   "execution_count": null,
   "metadata": {},
   "outputs": [],
   "source": []
  }
 ],
 "metadata": {
  "kernelspec": {
   "display_name": "Python 3",
   "language": "python",
   "name": "python3"
  },
  "language_info": {
   "codemirror_mode": {
    "name": "ipython",
    "version": 3
   },
   "file_extension": ".py",
   "mimetype": "text/x-python",
   "name": "python",
   "nbconvert_exporter": "python",
   "pygments_lexer": "ipython3",
   "version": "3.7.4"
  }
 },
 "nbformat": 4,
 "nbformat_minor": 2
}
