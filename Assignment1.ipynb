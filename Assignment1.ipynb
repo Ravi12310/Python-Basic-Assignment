{
 "cells": [
  {
   "cell_type": "code",
   "execution_count": null,
   "metadata": {},
   "outputs": [],
   "source": [
    "1.   * -->       Expression\n",
    "     'hello'-->  String\n",
    "     -87.8 -->   String\n",
    "     -  -->      Expression\n",
    "     +  -->      Expression\n",
    "     6 -->       String"
   ]
  },
  {
   "cell_type": "code",
   "execution_count": null,
   "metadata": {},
   "outputs": [],
   "source": [
    "2.  What is difference between String and Variable\n",
    "\n",
    "        String: It is a data type and by using string we can able to do some operations. String has written only in double \n",
    "              quotes. String is a immutable. We can do some string operations.\n",
    "        Variable: By using a variable we can able to assign the values. And mainly by using variable we can assign string \n",
    "            values and any operations. Without variable we cannot do any tasks."
   ]
  },
  {
   "cell_type": "code",
   "execution_count": null,
   "metadata": {},
   "outputs": [],
   "source": [
    "3. Describe three different data types\n",
    "\n",
    "        Int: Integer is a data type. By using int we can able to do numerical operations Ex: 0 to 9\n",
    "        Float: Float is also an another data type which can store a floating type of values Ex: 0.34\n",
    "        Boolean: Boolean is a data type which gives the output as True and False only and cannot gives any remaining one."
   ]
  },
  {
   "cell_type": "code",
   "execution_count": null,
   "metadata": {},
   "outputs": [],
   "source": [
    "4. What is an expression made up of? What do all expressions do\n",
    "\n",
    "        Expression is made up of a mathematical operations to do a mathematical tasks. All the xpression can do the numerical \n",
    "                tasks. In expressions definitely there is an mathematical statement otherwise it cannot perform the tasks."
   ]
  },
  {
   "cell_type": "code",
   "execution_count": null,
   "metadata": {},
   "outputs": [],
   "source": [
    "5 This assignment statements, like spam = 10. What is the difference between an expression and statement\n",
    "\n",
    "        In this the the variable name spam holds 10 because = symbol and it is a statement because of spam = 10 has given \n",
    "            and expression means having any arithmetic operation in the given code."
   ]
  },
  {
   "cell_type": "code",
   "execution_count": null,
   "metadata": {},
   "outputs": [],
   "source": [
    "6. After running the following code, what does the variable bacon contain?\n",
    "            bacon = 22\n",
    "            bacon + 1\n",
    "        \n",
    "        After running the above code now bacon contains 23 because already bacon holds 22 and again given bacon + 1. Now that\n",
    "                bacon(22) + 1  gets 23."
   ]
  },
  {
   "cell_type": "code",
   "execution_count": null,
   "metadata": {},
   "outputs": [],
   "source": [
    "7. What should the values of the following two terms be\n",
    "        'spam'+'spamspam'\n",
    "        'spam'*3\n",
    "        \n",
    "        \n",
    "        By using the above the output is same for the two like 'spamspamspam' because in the first one it has addition operator\n",
    "            with that the two strings able to merge. And in the next one with multiply operator it adds 3 times to that string\n",
    "            because of given information."
   ]
  },
  {
   "cell_type": "code",
   "execution_count": null,
   "metadata": {},
   "outputs": [],
   "source": [
    "8. Why eggs is a valid variable name and 100 is is invalid\n",
    "\n",
    "        Because variable name can be any meaningful name we have to give and 100 is a integer so it can take 100 as variable \n",
    "            name."
   ]
  },
  {
   "cell_type": "code",
   "execution_count": null,
   "metadata": {},
   "outputs": [],
   "source": [
    "9. What three functions can be used to get the integer, floating point number or string version of a value\n",
    "\n",
    "        int()  will gives the integer version of value\n",
    "        float() will gives the floating version of value\n",
    "        str()  will gives the string version of value\n",
    "        \n",
    "        By using type conversions we can able to change any data type to our own format."
   ]
  },
  {
   "cell_type": "code",
   "execution_count": null,
   "metadata": {},
   "outputs": [],
   "source": [
    "10. Why does this expression cause an error? How can you fix it?\n",
    "    'I have eaten'+99+'burritos'\n",
    "    \n",
    "    \n",
    "    It will only concatenate string to string but in that there is numerical number so it raised error. We can able to solve \n",
    "        that using of quotes.\n",
    "        \n",
    "        correct one is: 'I have eaten' + '99' + burritos"
   ]
  },
  {
   "cell_type": "code",
   "execution_count": null,
   "metadata": {},
   "outputs": [],
   "source": []
  },
  {
   "cell_type": "code",
   "execution_count": null,
   "metadata": {},
   "outputs": [],
   "source": []
  }
 ],
 "metadata": {
  "kernelspec": {
   "display_name": "Python 3",
   "language": "python",
   "name": "python3"
  },
  "language_info": {
   "codemirror_mode": {
    "name": "ipython",
    "version": 3
   },
   "file_extension": ".py",
   "mimetype": "text/x-python",
   "name": "python",
   "nbconvert_exporter": "python",
   "pygments_lexer": "ipython3",
   "version": "3.7.4"
  }
 },
 "nbformat": 4,
 "nbformat_minor": 2
}
