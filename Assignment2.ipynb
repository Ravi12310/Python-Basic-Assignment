{
 "cells": [
  {
   "cell_type": "code",
   "execution_count": null,
   "metadata": {},
   "outputs": [],
   "source": [
    "1.  Boolean is a data type in python. When we write them we can only gets True or False output."
   ]
  },
  {
   "cell_type": "code",
   "execution_count": null,
   "metadata": {},
   "outputs": [],
   "source": [
    "2. The three different types of Boolean operator is and or not."
   ]
  },
  {
   "cell_type": "code",
   "execution_count": null,
   "metadata": {},
   "outputs": [],
   "source": [
    "3.  True and True will give True\n",
    "    True and False will give False\n",
    "    False and True will give False\n",
    "    False and False will give False\n",
    "    True or True will give True\n",
    "    True or False will give True\n",
    "    False or True will give True\n",
    "    False or False will give False\n",
    "    not True will give False\n",
    "    not False will give True"
   ]
  },
  {
   "cell_type": "code",
   "execution_count": null,
   "metadata": {},
   "outputs": [],
   "source": [
    "4. (5>4) and (3==5)     False\n",
    "    not(5>4) False\n",
    "    (5>4) or (3==5) True\n",
    "    not((5>4) or (3==5))  False\n",
    "    (True and True) and (True == False)  False\n",
    "    not False or not True    True"
   ]
  },
  {
   "cell_type": "code",
   "execution_count": null,
   "metadata": {},
   "outputs": [],
   "source": [
    "5.  <(less than)\n",
    "    >(greater than)\n",
    "    ==(equals to)\n",
    "    >=(greater than equals to)\n",
    "    <=(less than equals to)\n",
    "    !=(not equals to)"
   ]
  },
  {
   "cell_type": "code",
   "execution_count": null,
   "metadata": {},
   "outputs": [],
   "source": [
    "6.  equal to(=) means when we compare the things we will use and assignment operators(==) means when we can able to assign or \n",
    "        store some values we can use it.\n",
    "    1=x is invalid and 1==x is valid"
   ]
  },
  {
   "cell_type": "code",
   "execution_count": null,
   "metadata": {},
   "outputs": [],
   "source": [
    "7.  spam = 0\n",
    "if spam == 10:\n",
    "    print(\"eggs\")\n",
    "if spam > 5:\n",
    "    print(\"bacon\")\n",
    "else:\n",
    "    print(\"ham\")\n",
    "    print(\"spam\")\n",
    "    print(\"spam\")\n",
    "    \n",
    "    \n",
    "    \n",
    "    in the above one two if blocks and one else block is there."
   ]
  },
  {
   "cell_type": "code",
   "execution_count": null,
   "metadata": {},
   "outputs": [],
   "source": [
    "8.   spam = input()\n",
    "    if spam == 1:\n",
    "        print(\"hello\")\n",
    "    if spam == 2:\n",
    "        print(\"howdy\")\n",
    "    else:\n",
    "        print(\"greeting\")"
   ]
  },
  {
   "cell_type": "code",
   "execution_count": null,
   "metadata": {},
   "outputs": [],
   "source": [
    "9.  break keyword we want to use in endless loop."
   ]
  },
  {
   "cell_type": "code",
   "execution_count": null,
   "metadata": {},
   "outputs": [],
   "source": [
    "10.  break will able to break the particular condition and done the remaining part\n",
    "    continue will able to continues the given task."
   ]
  },
  {
   "cell_type": "code",
   "execution_count": null,
   "metadata": {},
   "outputs": [],
   "source": [
    "11.  range(10)  gives the output as 0 to 9\n",
    "     range(0,10)  also gives same output because in this we entered start and stop \n",
    "     range(0,10,1)  in this same output because when we does not give any step size it will takes as 1"
   ]
  },
  {
   "cell_type": "code",
   "execution_count": null,
   "metadata": {},
   "outputs": [],
   "source": [
    "12.   for i in range(11):\n",
    "        print(i)\n",
    "        \n",
    "        \n",
    "          i = 1\n",
    "        while i <= 10:\n",
    "            print(i)\n",
    "            i += 1"
   ]
  },
  {
   "cell_type": "code",
   "execution_count": null,
   "metadata": {},
   "outputs": [],
   "source": [
    "13.  from spam import bacon"
   ]
  }
 ],
 "metadata": {
  "kernelspec": {
   "display_name": "Python 3",
   "language": "python",
   "name": "python3"
  },
  "language_info": {
   "codemirror_mode": {
    "name": "ipython",
    "version": 3
   },
   "file_extension": ".py",
   "mimetype": "text/x-python",
   "name": "python",
   "nbconvert_exporter": "python",
   "pygments_lexer": "ipython3",
   "version": "3.7.4"
  }
 },
 "nbformat": 4,
 "nbformat_minor": 2
}
